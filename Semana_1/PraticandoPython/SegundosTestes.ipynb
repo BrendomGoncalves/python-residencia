{
 "cells": [
  {
   "cell_type": "code",
   "execution_count": null,
   "metadata": {},
   "outputs": [],
   "source": [
    "L = [10, 50, 1, 20, 100]\n",
    "print(\"Lista Original:\\t\", L)\n",
    "L.sort()\n",
    "print(\"Lista Ordenada:\\t\", L)\n",
    "L.sort(reverse=True)\n",
    "print(\"Lista Inversa:\\t\", L)"
   ]
  },
  {
   "cell_type": "code",
   "execution_count": 27,
   "metadata": {},
   "outputs": [
    {
     "name": "stdout",
     "output_type": "stream",
     "text": [
      "edcba\n"
     ]
    }
   ],
   "source": [
    "nome = \"abcde\"\n",
    "print(nome[::-1])"
   ]
  }
 ],
 "metadata": {
  "kernelspec": {
   "display_name": "Python 3",
   "language": "python",
   "name": "python3"
  },
  "language_info": {
   "codemirror_mode": {
    "name": "ipython",
    "version": 3
   },
   "file_extension": ".py",
   "mimetype": "text/x-python",
   "name": "python",
   "nbconvert_exporter": "python",
   "pygments_lexer": "ipython3",
   "version": "3.10.12"
  }
 },
 "nbformat": 4,
 "nbformat_minor": 2
}
